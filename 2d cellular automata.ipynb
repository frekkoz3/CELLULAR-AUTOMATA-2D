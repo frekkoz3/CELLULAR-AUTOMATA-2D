{
 "cells": [
  {
   "cell_type": "markdown",
   "metadata": {},
   "source": [
    "# CELLULAR AUTOMATA (2d)\n",
    "\n",
    "Non penso debba dire nulla, se non sai cosa siano i CA vai su youtube e 2 minuti l'hai capito.\n",
    "\n",
    "Unica cosa: usiamo le regole in formato **ALIVE / BORN / STATE / NEIGHBOURHOOD**"
   ]
  },
  {
   "cell_type": "code",
   "execution_count": 134,
   "metadata": {},
   "outputs": [],
   "source": [
    "import pygame \n",
    "import numpy as np\n",
    "import random\n",
    "import copy\n",
    "import time"
   ]
  },
  {
   "cell_type": "markdown",
   "metadata": {},
   "source": [
    "Definiamo per il momento il \"moore neighbourhood\", che è semplicemente il quadrato che accerchia la nostra cellula (nel disegno le caselle con la M sono il vicinato che consideriamo, noi siamo l'emoji contenta). La funzione restituisce direttamente il numero di celle vive.\n",
    "\n",
    "|M |M |M| \n",
    "|-|-|-|\n",
    "|**M** |:) |**M** |\n",
    "|**M** |**M** |**M** |"
   ]
  },
  {
   "cell_type": "code",
   "execution_count": 135,
   "metadata": {},
   "outputs": [],
   "source": [
    "def moore_neighbourhood(grid, index):\n",
    "    y = index[0]\n",
    "    x = index[1]\n",
    "\n",
    "    side = len(grid)\n",
    "    moore = []\n",
    "    for i in range(y-1, y+2):\n",
    "        k = i%side\n",
    "        row = []\n",
    "        for j in range (x-1, x + 2):\n",
    "            w = j%side\n",
    "            row.append(grid[k, w])\n",
    "        moore.append(row)\n",
    "    \n",
    "    moore = np.array(moore)\n",
    "    offset = 1 if grid[index] !=0 else 0 # non dobbiamo considerare la cellula stessa\n",
    "    return np.count_nonzero(moore) - offset "
   ]
  },
  {
   "cell_type": "markdown",
   "metadata": {},
   "source": [
    "Questo invece è il \"von neighbourhood\" (o così mi pare si chiami). Prevede solo gli elementi sopra e a lato. \n",
    "\n",
    "| |M | | \n",
    "|-|-|-|\n",
    "|**M** |:) |**M** |\n",
    "| |**M** | |"
   ]
  },
  {
   "cell_type": "code",
   "execution_count": 136,
   "metadata": {},
   "outputs": [],
   "source": [
    "def von_neighbourhood(grid, index):\n",
    "    y = index[0]\n",
    "    x = index[1]\n",
    "\n",
    "    side = len(grid)\n",
    "    von = []\n",
    "    \n",
    "    for i in range (y-1, y+2):\n",
    "        k = i%side\n",
    "        if y != k:\n",
    "            von.append(grid[k, x])\n",
    "    \n",
    "    for j in range (x-1, x+2):\n",
    "        w = j%side\n",
    "        if x != w:\n",
    "            von.append(grid[y, w])\n",
    "    \n",
    "    von = np.array(von)\n",
    "    return np.count_nonzero(von)"
   ]
  },
  {
   "cell_type": "markdown",
   "metadata": {},
   "source": [
    "Implementiamo anche il \"Diagonal Neighbourhood\" che è semplicemente l'esclusione del von dal moore.\n",
    "\n",
    "|M |  |M| \n",
    "|-|-|-|\n",
    "| |:) | |\n",
    "|**M** | |**M** |"
   ]
  },
  {
   "cell_type": "code",
   "execution_count": 137,
   "metadata": {},
   "outputs": [],
   "source": [
    "def diag_neighbourhood(grid, index):\n",
    "    return moore_neighbourhood(grid, index) - von_neighbourhood(grid, index)"
   ]
  },
  {
   "cell_type": "code",
   "execution_count": 138,
   "metadata": {},
   "outputs": [
    {
     "name": "stdout",
     "output_type": "stream",
     "text": [
      "[[ 1  2  3  4]\n",
      " [ 5  6  7  8]\n",
      " [ 9 10 11 12]\n",
      " [13 14 15 16]]\n"
     ]
    },
    {
     "data": {
      "text/plain": [
       "4"
      ]
     },
     "execution_count": 138,
     "metadata": {},
     "output_type": "execute_result"
    }
   ],
   "source": [
    "g = np.array([[1, 2, 3, 4], [5, 6, 7, 8], [9, 10, 11, 12], [13, 14, 15, 16]])\n",
    "print(g)\n",
    "von_neighbourhood(g, (2, 1))\n"
   ]
  },
  {
   "cell_type": "markdown",
   "metadata": {},
   "source": [
    "Definiamo una classe per le regole. Affidiamo alla regola l'update della cella e dell'intera griglia."
   ]
  },
  {
   "cell_type": "code",
   "execution_count": 149,
   "metadata": {},
   "outputs": [],
   "source": [
    "class Rule:\n",
    "    \n",
    "    def __init__(self, alive, born, state, neighbourhood):\n",
    "        self.alive = alive\n",
    "        self.born = born\n",
    "        self.state = state\n",
    "        self.neighbourhood = neighbourhood\n",
    "\n",
    "    def update_cell(self, grid, index):\n",
    "        pass\n",
    "\n",
    "    def update_grid(self, grid):\n",
    "        pass"
   ]
  },
  {
   "cell_type": "code",
   "execution_count": 155,
   "metadata": {},
   "outputs": [],
   "source": [
    "class CArule(Rule):\n",
    "\n",
    "    def __init__(self, alive, born, state, neighbourhood):\n",
    "        super().__init__(alive, born, state, neighbourhood)\n",
    "\n",
    "    def update_cell(self, grid, index):\n",
    "        if grid[index] == 1:\n",
    "            if self.neighbourhood(grid, index) in self.alive:\n",
    "                return 1\n",
    "            else:\n",
    "                return -self.state\n",
    "        elif grid[index] == 0:\n",
    "            if self.neighbourhood(grid, index) in self.born:\n",
    "                return 1\n",
    "            else:\n",
    "                return 0\n",
    "        else:\n",
    "            return grid[index] + 1\n",
    "        \n",
    "    def update_grid(self, grid):\n",
    "        side = len(grid)\n",
    "        new_grid = np.zeros_like(grid)\n",
    "        for i in range (side):\n",
    "            for j in range(side):\n",
    "                new_grid[i, j] = self.update_cell(grid, (i, j))\n",
    "        return new_grid"
   ]
  },
  {
   "cell_type": "markdown",
   "metadata": {},
   "source": [
    "Qui definiamo le due cose principali. \n",
    "\n",
    "1. la **grid**, cioè l'ambiente (quadrato) in cui la CA evolve\n",
    "2. la **rule**, cioè la regola che devono seguire le singole cellule"
   ]
  },
  {
   "cell_type": "code",
   "execution_count": 156,
   "metadata": {},
   "outputs": [],
   "source": [
    "side = 100\n",
    "grid = np.zeros(shape=(side, side))"
   ]
  },
  {
   "cell_type": "code",
   "execution_count": 157,
   "metadata": {},
   "outputs": [],
   "source": [
    "rule = CArule([1, 3], [2, 4], 5, moore_neighbourhood)"
   ]
  },
  {
   "cell_type": "markdown",
   "metadata": {},
   "source": [
    "Questa è l'interfaccia per selezionare le cellule iniziali."
   ]
  },
  {
   "cell_type": "code",
   "execution_count": 158,
   "metadata": {},
   "outputs": [
    {
     "ename": "error",
     "evalue": "display Surface quit",
     "output_type": "error",
     "traceback": [
      "\u001b[1;31m---------------------------------------------------------------------------\u001b[0m",
      "\u001b[1;31merror\u001b[0m                                     Traceback (most recent call last)",
      "Cell \u001b[1;32mIn[158], line 25\u001b[0m\n\u001b[0;32m     22\u001b[0m         \u001b[38;5;28;01mif\u001b[39;00m \u001b[38;5;241m0\u001b[39m \u001b[38;5;241m<\u001b[39m\u001b[38;5;241m=\u001b[39m x \u001b[38;5;241m<\u001b[39m side \u001b[38;5;129;01mand\u001b[39;00m \u001b[38;5;241m0\u001b[39m \u001b[38;5;241m<\u001b[39m\u001b[38;5;241m=\u001b[39m y \u001b[38;5;241m<\u001b[39m side:\n\u001b[0;32m     23\u001b[0m             grid[y, x] \u001b[38;5;241m=\u001b[39m \u001b[38;5;241m0\u001b[39m \u001b[38;5;28;01mif\u001b[39;00m grid[y, x] \u001b[38;5;241m==\u001b[39m \u001b[38;5;241m1\u001b[39m \u001b[38;5;28;01melse\u001b[39;00m \u001b[38;5;241m1\u001b[39m\n\u001b[1;32m---> 25\u001b[0m \u001b[43mscreen\u001b[49m\u001b[38;5;241;43m.\u001b[39;49m\u001b[43mfill\u001b[49m\u001b[43m(\u001b[49m\u001b[43mbackground_color\u001b[49m\u001b[43m)\u001b[49m\n\u001b[0;32m     27\u001b[0m \u001b[38;5;28;01mfor\u001b[39;00m row \u001b[38;5;129;01min\u001b[39;00m \u001b[38;5;28mrange\u001b[39m(side):\n\u001b[0;32m     28\u001b[0m     \u001b[38;5;28;01mfor\u001b[39;00m column \u001b[38;5;129;01min\u001b[39;00m \u001b[38;5;28mrange\u001b[39m(side):\n",
      "\u001b[1;31merror\u001b[0m: display Surface quit"
     ]
    }
   ],
   "source": [
    "pygame.init()\n",
    "\n",
    "window_size = 600\n",
    "cell_dimension = window_size//side\n",
    "background_color = (0, 0, 0)\n",
    "line_color = (255, 255, 255)\n",
    "\n",
    "fps = 60\n",
    "\n",
    "screen = pygame.display.set_mode((window_size, window_size))\n",
    "pygame.display.set_caption(\"Cellular Automata - Setup\")\n",
    "\n",
    "clock = pygame.time.Clock()\n",
    "\n",
    "while True:\n",
    "    \n",
    "    for event in pygame.event.get():\n",
    "        if event.type == pygame.QUIT:\n",
    "            pygame.quit()\n",
    "        elif event.type == pygame.MOUSEBUTTONDOWN:\n",
    "            x, y = event.pos[0]//cell_dimension, event.pos[1]//cell_dimension\n",
    "            if 0 <= x < side and 0 <= y < side:\n",
    "                grid[y, x] = 0 if grid[y, x] == 1 else 1\n",
    "\n",
    "    screen.fill(background_color)\n",
    "\n",
    "    for row in range(side):\n",
    "        for column in range(side):\n",
    "            x = column * cell_dimension\n",
    "            y = row * cell_dimension\n",
    "            cell_color = (0, 0, 0) if grid[row, column] == 0 else (255, 255, 255)\n",
    "            pygame.draw.rect(screen, cell_color, (x, y, cell_dimension, cell_dimension)) # questo è per la cella attuale\n",
    "            #pygame.draw.rect(screen, line_color, (x, y, cell_dimension, cell_dimension), 1) # questo è per i bordi\n",
    "\n",
    "    pygame.display.flip()\n",
    "\n",
    "    clock.tick(fps)"
   ]
  },
  {
   "cell_type": "markdown",
   "metadata": {},
   "source": [
    "E' questa è l'attuale interfaccia."
   ]
  },
  {
   "cell_type": "code",
   "execution_count": 163,
   "metadata": {},
   "outputs": [
    {
     "ename": "error",
     "evalue": "display Surface quit",
     "output_type": "error",
     "traceback": [
      "\u001b[1;31m---------------------------------------------------------------------------\u001b[0m",
      "\u001b[1;31merror\u001b[0m                                     Traceback (most recent call last)",
      "Cell \u001b[1;32mIn[163], line 37\u001b[0m\n\u001b[0;32m     34\u001b[0m             shade \u001b[38;5;241m=\u001b[39m \u001b[38;5;241m255\u001b[39m \u001b[38;5;28;01mif\u001b[39;00m k \u001b[38;5;241m==\u001b[39m \u001b[38;5;241m1\u001b[39m \u001b[38;5;28;01melse\u001b[39;00m \u001b[38;5;241m255\u001b[39m\u001b[38;5;241m*\u001b[39m(\u001b[38;5;241m1\u001b[39m \u001b[38;5;241m-\u001b[39m ((rule\u001b[38;5;241m.\u001b[39mstate \u001b[38;5;241m+\u001b[39m k \u001b[38;5;241m+\u001b[39m \u001b[38;5;241m1\u001b[39m)\u001b[38;5;241m/\u001b[39mrule\u001b[38;5;241m.\u001b[39mstate))\n\u001b[0;32m     35\u001b[0m             cell_color \u001b[38;5;241m=\u001b[39m (\u001b[38;5;241m0\u001b[39m, \u001b[38;5;241m0\u001b[39m, \u001b[38;5;241m0\u001b[39m) \u001b[38;5;28;01mif\u001b[39;00m k \u001b[38;5;241m==\u001b[39m \u001b[38;5;241m0\u001b[39m \u001b[38;5;28;01melse\u001b[39;00m (\u001b[38;5;241m0\u001b[39m, \u001b[38;5;241m0\u001b[39m, shade)\n\u001b[1;32m---> 37\u001b[0m         \u001b[43mpygame\u001b[49m\u001b[38;5;241;43m.\u001b[39;49m\u001b[43mdraw\u001b[49m\u001b[38;5;241;43m.\u001b[39;49m\u001b[43mrect\u001b[49m\u001b[43m(\u001b[49m\u001b[43mscreen\u001b[49m\u001b[43m,\u001b[49m\u001b[43m \u001b[49m\u001b[43mcell_color\u001b[49m\u001b[43m,\u001b[49m\u001b[43m \u001b[49m\u001b[43m(\u001b[49m\u001b[43mx\u001b[49m\u001b[43m,\u001b[49m\u001b[43m \u001b[49m\u001b[43my\u001b[49m\u001b[43m,\u001b[49m\u001b[43m \u001b[49m\u001b[43mcell_dimension\u001b[49m\u001b[43m,\u001b[49m\u001b[43m \u001b[49m\u001b[43mcell_dimension\u001b[49m\u001b[43m)\u001b[49m\u001b[43m)\u001b[49m \u001b[38;5;66;03m# questo è per la cella attuale\u001b[39;00m\n\u001b[0;32m     38\u001b[0m         \u001b[38;5;66;03m#pygame.draw.rect(screen, line_color, (x, y, cell_dimension, cell_dimension), 1) # questo è per i bordi\u001b[39;00m\n\u001b[0;32m     40\u001b[0m grid \u001b[38;5;241m=\u001b[39m rule\u001b[38;5;241m.\u001b[39mupdate_grid(grid)\n",
      "\u001b[1;31merror\u001b[0m: display Surface quit"
     ]
    }
   ],
   "source": [
    "pygame.init()\n",
    "\n",
    "window_size = 600\n",
    "cell_dimension = window_size//side\n",
    "line_color = (255, 255, 255)\n",
    "\n",
    "light_theme = False\n",
    "background_color = (255, 255, 255) if light_theme else (0, 0, 0)\n",
    "\n",
    "fps = 30\n",
    "\n",
    "screen = pygame.display.set_mode((window_size, window_size))\n",
    "pygame.display.set_caption(\"Cellular Automata\")\n",
    "\n",
    "clock = pygame.time.Clock()\n",
    "\n",
    "while True:\n",
    "    for event in pygame.event.get():\n",
    "        if event.type == pygame.QUIT:\n",
    "            pygame.quit()\n",
    "\n",
    "    for row in range(side):\n",
    "        for column in range(side):\n",
    "            x = column * cell_dimension\n",
    "            y = row * cell_dimension\n",
    "            k = grid[row, column]\n",
    "            \n",
    "            # light theme\n",
    "            if light_theme:\n",
    "                shade = 255 if k == 1 else 255*(((rule.state + k + 1)/rule.state))\n",
    "                cell_color = (255, 255, 255) if k == 0 else (shade, shade, 255)\n",
    "            # dark theme\n",
    "            else:\n",
    "                shade = 255 if k == 1 else 255*(1 - ((rule.state + k + 1)/rule.state))\n",
    "                cell_color = (0, 0, 0) if k == 0 else (0, 0, shade)\n",
    "\n",
    "            pygame.draw.rect(screen, cell_color, (x, y, cell_dimension, cell_dimension)) # questo è per la cella attuale\n",
    "            #pygame.draw.rect(screen, line_color, (x, y, cell_dimension, cell_dimension), 1) # questo è per i bordi\n",
    "    \n",
    "    grid = rule.update_grid(grid)\n",
    "\n",
    "    pygame.display.flip()\n",
    "\n",
    "    clock.tick(fps)\n"
   ]
  }
 ],
 "metadata": {
  "kernelspec": {
   "display_name": "Python 3",
   "language": "python",
   "name": "python3"
  },
  "language_info": {
   "codemirror_mode": {
    "name": "ipython",
    "version": 3
   },
   "file_extension": ".py",
   "mimetype": "text/x-python",
   "name": "python",
   "nbconvert_exporter": "python",
   "pygments_lexer": "ipython3",
   "version": "3.12.3"
  }
 },
 "nbformat": 4,
 "nbformat_minor": 2
}
